{
  "nbformat": 4,
  "nbformat_minor": 0,
  "metadata": {
    "colab": {
      "provenance": [],
      "authorship_tag": "ABX9TyNcMh/KLygOfB8KP+BG5rZo",
      "include_colab_link": true
    },
    "kernelspec": {
      "name": "python3",
      "display_name": "Python 3"
    },
    "language_info": {
      "name": "python"
    }
  },
  "cells": [
    {
      "cell_type": "markdown",
      "metadata": {
        "id": "view-in-github",
        "colab_type": "text"
      },
      "source": [
        "<a href=\"https://colab.research.google.com/github/Soumadip-das-003/TravelPlanner/blob/main/TravelPranner.ipynb\" target=\"_parent\"><img src=\"https://colab.research.google.com/assets/colab-badge.svg\" alt=\"Open In Colab\"/></a>"
      ]
    },
    {
      "cell_type": "code",
      "execution_count": null,
      "metadata": {
        "id": "tRvOqBsk_95h"
      },
      "outputs": [],
      "source": [
        "pip install -q streamlit  pyngrok\n"
      ]
    },
    {
      "cell_type": "code",
      "source": [
        "!pip install -U google-generativeai\n"
      ],
      "metadata": {
        "id": "32ukN7eORrLX"
      },
      "execution_count": null,
      "outputs": []
    },
    {
      "cell_type": "code",
      "source": [
        "import os\n",
        "\n",
        "os.environ[\"PROVIDER\"] = \"gemini\"\n",
        "\n",
        "# API keys (set at least one)\n",
        "os.environ[\"GEMINI_API_KEY\"] = \"GEMINI_KEY\"\n"
      ],
      "metadata": {
        "id": "HDeKDZfsAZds"
      },
      "execution_count": null,
      "outputs": []
    },
    {
      "cell_type": "code",
      "source": [
        "from pyngrok import ngrok\n",
        "\n",
        "!ngrok authtoken YOUR_NGROK_AUTH_TOKEN\n",
        "\n",
        "public_url = ngrok.connect(8501)\n",
        "print(\"🌍 Public URL →\", public_url.public_url)\n"
      ],
      "metadata": {
        "id": "61WVklkaORqr"
      },
      "execution_count": null,
      "outputs": []
    },
    {
      "cell_type": "code",
      "source": [
        "%%writefile config.py\n",
        "import os\n",
        "\n",
        "class Config:\n",
        "    PROVIDER = os.environ.get(\"PROVIDER\", \"gemini\").lower()\n",
        "\n",
        "    # Gemini\n",
        "    GEMINI_API_KEY = os.environ.get(\"GEMINI_API_KEY\", \"\")\n",
        "    GEMINI_MODEL = \"gemini-1.5-flash\"\n",
        "\n",
        "    DEFAULT_CURRENCY = \"INR\"\n",
        "    MAX_DAYS = 14\n",
        "    MIN_DAYS = 1"
      ],
      "metadata": {
        "id": "rx8jYF1UAf9F"
      },
      "execution_count": null,
      "outputs": []
    },
    {
      "cell_type": "code",
      "source": [
        "%%writefile ai_client.py\n",
        "from config import Config\n",
        "import google.generativeai as genai\n",
        "from openai import OpenAI\n",
        "import json\n",
        "import re\n",
        "\n",
        "class AIClient:\n",
        "    def __init__(self):\n",
        "        self.provider = Config.PROVIDER\n",
        "        if self.provider == \"gemini\":\n",
        "            if not Config.GEMINI_API_KEY:\n",
        "                raise ValueError(\"Gemini API key not set.\")\n",
        "            genai.configure(api_key=Config.GEMINI_API_KEY)\n",
        "            self.model = genai.GenerativeModel(model_name=Config.GEMINI_MODEL)\n",
        "\n",
        "\n",
        "        else:\n",
        "            raise ValueError(\"Unsupported provider.\")\n",
        "\n",
        "    def generate_itinerary(self, prompt):\n",
        "        if self.provider == \"gemini\":\n",
        "            resp = self.model.generate_content(prompt)\n",
        "            text = getattr(resp, \"text\", \"\") or \"\"\n",
        "            return self._extract_outputs(text)\n",
        "\n",
        "\n",
        "    def _extract_outputs(self, text):\n",
        "        json_match = re.search(r\"```json\\s*(\\{.*?\\})\\s*```\", text, flags=re.DOTALL)\n",
        "        itinerary_json = {}\n",
        "        if json_match:\n",
        "            try:\n",
        "                itinerary_json = json.loads(json_match.group(1))\n",
        "            except:\n",
        "                itinerary_json = {\"error\": \"Failed to parse JSON\"}\n",
        "\n",
        "        summary_text = text[json_match.end(0):].strip() if json_match else text.strip()\n",
        "        return {\"itinerary_json\": itinerary_json, \"summary_text\": summary_text}"
      ],
      "metadata": {
        "id": "fN1OpxYnAkC_"
      },
      "execution_count": null,
      "outputs": []
    },
    {
      "cell_type": "code",
      "source": [
        "%%writefile planner.py\n",
        "from config import Config\n",
        "\n",
        "def validate_inputs(data):\n",
        "    destination = (data.get(\"destination\") or \"\").strip()\n",
        "    start_date = (data.get(\"start_date\") or \"\").strip()\n",
        "    duration_days = int(data.get(\"duration_days\") or 0)\n",
        "    budget_level = (data.get(\"budget_level\") or \"tight\").strip().lower()\n",
        "    interests = [i.strip().lower() for i in (data.get(\"interests\") or \"\").split(\",\") if i.strip()]\n",
        "    transport = (data.get(\"transport\") or \"bus/train\").strip().lower()\n",
        "    stay_type = (data.get(\"stay_type\") or \"hostel\").strip().lower()\n",
        "    currency = Config.DEFAULT_CURRENCY\n",
        "\n",
        "    if not destination:\n",
        "        return False, \"Destination is required.\", None\n",
        "    if duration_days < Config.MIN_DAYS or duration_days > Config.MAX_DAYS:\n",
        "        return False, f\"Duration must be between {Config.MIN_DAYS} and {Config.MAX_DAYS} days.\", None\n",
        "\n",
        "    return True, \"\", {\n",
        "        \"destination\": destination,\n",
        "        \"start_date\": start_date,\n",
        "        \"duration_days\": duration_days,\n",
        "        \"budget_level\": budget_level,\n",
        "        \"interests\": interests,\n",
        "        \"transport\": transport,\n",
        "        \"stay_type\": stay_type,\n",
        "        \"currency\": currency\n",
        "    }\n",
        "\n",
        "def build_prompt(params):\n",
        "    destination = params[\"destination\"]\n",
        "    duration = params[\"duration_days\"]\n",
        "    budget = params[\"budget_level\"]\n",
        "    interests = \", \".join(params[\"interests\"]) if params[\"interests\"] else \"general sightseeing\"\n",
        "    transport = params[\"transport\"]\n",
        "    stay = params[\"stay_type\"]\n",
        "    currency = params[\"currency\"]\n",
        "    start_date = params[\"start_date\"] or \"an upcoming weekend\"\n",
        "\n",
        "    return f\"\"\"\n",
        "You are a student-focused travel planner. Create a budget-friendly {duration}-day itinerary for {destination} starting on {start_date}.\n",
        "\n",
        "Constraints:\n",
        "- Budget level: {budget}.\n",
        "- Interests: {interests}.\n",
        "- Preferred transport: {transport}.\n",
        "- Preferred stay: {stay}.\n",
        "- Currency: {currency}.\n",
        "- Prioritize free/low-cost highlights, student discounts, and safety.\n",
        "\n",
        "Output format:\n",
        "1) JSON fenced block with daily plan, meals, transport, accommodation, estimated costs, and tips.\n",
        "2) Below JSON, a concise student-friendly summary (5-7 sentences).\n",
        "\"\"\""
      ],
      "metadata": {
        "id": "uUIItkV5Am4B"
      },
      "execution_count": null,
      "outputs": []
    },
    {
      "cell_type": "code",
      "source": [
        "%%writefile app.py\n",
        "import streamlit as st\n",
        "from ai_client import AIClient\n",
        "from planner import validate_inputs, build_prompt\n",
        "\n",
        "st.set_page_config(page_title=\"Student AI Travel Planner\", layout=\"wide\")\n",
        "st.title(\"🎓 Student AI Travel Planner\")\n",
        "\n",
        "with st.form(\"planner_form\"):\n",
        "    destination = st.text_input(\"Destination\", placeholder=\"e.g., Ooty, Goa, Jaipur\")\n",
        "    start_date = st.date_input(\"Start date (optional)\", value=None)\n",
        "    duration_days = st.number_input(\"Duration (days)\", min_value=1, max_value=14, value=3)\n",
        "    budget_level = st.selectbox(\"Budget level\", [\"tight\", \"moderate\", \"flexible\"])\n",
        "    transport = st.selectbox(\"Preferred transport\", [\"bus/train\", \"shared cab\", \"flight\"])\n",
        "    stay_type = st.selectbox(\"Preferred stay\", [\"hostel\", \"homestay\", \"budget hotel\"])\n",
        "    interests = st.text_input(\"Interests (comma-separated)\", placeholder=\"nature, food, culture, history\")\n",
        "    submitted = st.form_submit_button(\"Generate Itinerary\")\n",
        "\n",
        "if submitted:\n",
        "    ok, msg, normalized = validate_inputs({\n",
        "        \"destination\": destination,\n",
        "        \"start_date\": str(start_date) if start_date else \"\",\n",
        "        \"duration_days\": int(duration_days),\n",
        "        \"budget_level\": budget_level,\n",
        "        \"interests\": interests,\n",
        "        \"transport\": transport,\n",
        "        \"stay_type\": stay_type\n",
        "    })\n",
        "\n",
        "    if not ok:\n",
        "        st.error(msg)\n",
        "    else:\n",
        "        prompt = build_prompt(normalized)\n",
        "        try:\n",
        "            client = AIClient()\n",
        "            result = client.generate_itinerary(prompt)\n",
        "            st.subheader(\"📋 JSON Itinerary\")\n",
        "            st.json(result[\"itinerary_json\"])\n",
        "            st.subheader(\"📝 Student Summary\")\n",
        "            st.write(result[\"summary_text\"])\n",
        "        except Exception as e:\n",
        "            st.error(f\"Error: {e}\")"
      ],
      "metadata": {
        "id": "DMo2j2s8Apgt"
      },
      "execution_count": null,
      "outputs": []
    },
    {
      "cell_type": "code",
      "source": [
        "!streamlit run app.py --server.port 8501 --server.headless true"
      ],
      "metadata": {
        "colab": {
          "base_uri": "https://localhost:8080/"
        },
        "id": "-EPIqSGNAsDh",
        "outputId": "317ac057-3a2d-4ec5-d682-ddf17b9dd408"
      },
      "execution_count": 9,
      "outputs": [
        {
          "output_type": "stream",
          "name": "stdout",
          "text": [
            "\u001b[34m  Stopping...\u001b[0m\n",
            "Traceback (most recent call last):\n",
            "  File \"/usr/local/bin/streamlit\", line 8, in <module>\n",
            "    sys.exit(main())\n",
            "             ^^^^^^\n",
            "  File \"/usr/local/lib/python3.12/dist-packages/click/core.py\", line 1462, in __call__\n",
            "    return self.main(*args, **kwargs)\n",
            "           ^^^^^^^^^^^^^^^^^^^^^^^^^^\n",
            "  File \"/usr/local/lib/python3.12/dist-packages/click/core.py\", line 1383, in main\n",
            "    rv = self.invoke(ctx)\n",
            "         ^^^^^^^^^^^^^^^^\n",
            "  File \"/usr/local/lib/python3.12/dist-packages/click/core.py\", line 1850, in invoke\n",
            "    return _process_result(sub_ctx.command.invoke(sub_ctx))\n",
            "                           ^^^^^^^^^^^^^^^^^^^^^^^^^^^^^^^\n",
            "  File \"/usr/local/lib/python3.12/dist-packages/click/core.py\", line 1246, in invoke\n",
            "    return ctx.invoke(self.callback, **ctx.params)\n",
            "           ^^^^^^^^^^^^^^^^^^^^^^^^^^^^^^^^^^^^^^^\n",
            "  File \"/usr/local/lib/python3.12/dist-packages/click/core.py\", line 814, in invoke\n",
            "    return callback(*args, **kwargs)\n",
            "           ^^^^^^^^^^^^^^^^^^^^^^^^^\n",
            "  File \"/usr/local/lib/python3.12/dist-packages/streamlit/web/cli.py\", line 237, in main_run\n",
            "    _main_run(target, args, flag_options=kwargs)\n",
            "  File \"/usr/local/lib/python3.12/dist-packages/streamlit/web/cli.py\", line 279, in _main_run\n",
            "    bootstrap.run(file, is_hello, args, flag_options)\n",
            "  File \"/usr/local/lib/python3.12/dist-packages/streamlit/web/bootstrap.py\", line 332, in run\n",
            "    asyncio.run(main())\n",
            "  File \"/usr/lib/python3.12/asyncio/runners.py\", line 195, in run\n",
            "    return runner.run(main)\n",
            "           ^^^^^^^^^^^^^^^^\n",
            "  File \"/usr/lib/python3.12/asyncio/runners.py\", line 118, in run\n",
            "    return self._loop.run_until_complete(task)\n",
            "           ^^^^^^^^^^^^^^^^^^^^^^^^^^^^^^^^^^^\n",
            "  File \"/usr/lib/python3.12/asyncio/base_events.py\", line 678, in run_until_complete\n",
            "    self.run_forever()\n",
            "  File \"/usr/lib/python3.12/asyncio/base_events.py\", line 645, in run_forever\n",
            "    self._run_once()\n",
            "  File \"/usr/lib/python3.12/asyncio/base_events.py\", line 1961, in _run_once\n",
            "    event_list = self._selector.select(timeout)\n",
            "                 ^^^^^^^^^^^^^^^^^^^^^^^^^^^^^^\n",
            "  File \"/usr/lib/python3.12/selectors.py\", line 468, in select\n",
            "    fd_event_list = self._selector.poll(timeout, max_ev)\n",
            "                    ^^^^^^^^^^^^^^^^^^^^^^^^^^^^^^^^^^^^\n",
            "  File \"/usr/local/lib/python3.12/dist-packages/streamlit/web/bootstrap.py\", line 42, in signal_handler\n",
            "    server.stop()\n",
            "  File \"/usr/local/lib/python3.12/dist-packages/streamlit/web/server/server.py\", line 509, in stop\n",
            "    cli_util.print_to_cli(\"  Stopping...\", fg=\"blue\")\n",
            "  File \"/usr/local/lib/python3.12/dist-packages/streamlit/cli_util.py\", line 35, in print_to_cli\n",
            "    click.secho(message, **kwargs)\n",
            "  File \"/usr/local/lib/python3.12/dist-packages/click/termui.py\", line 684, in secho\n",
            "    return echo(message, file=file, nl=nl, err=err, color=color)\n",
            "           ^^^^^^^^^^^^^^^^^^^^^^^^^^^^^^^^^^^^^^^^^^^^^^^^^^^^^\n",
            "  File \"/usr/local/lib/python3.12/dist-packages/click/utils.py\", line 321, in echo\n",
            "    file.write(out)  # type: ignore\n",
            "    ^^^^^^^^^^^^^^^\n",
            "  File \"/usr/local/lib/python3.12/dist-packages/streamlit/web/bootstrap.py\", line 42, in signal_handler\n",
            "    server.stop()\n",
            "  File \"/usr/local/lib/python3.12/dist-packages/streamlit/web/server/server.py\", line 509, in stop\n",
            "    cli_util.print_to_cli(\"  Stopping...\", fg=\"blue\")\n",
            "  File \"/usr/local/lib/python3.12/dist-packages/streamlit/cli_util.py\", line 35, in print_to_cli\n",
            "    click.secho(message, **kwargs)\n",
            "  File \"/usr/local/lib/python3.12/dist-packages/click/termui.py\", line 684, in secho\n",
            "    return echo(message, file=file, nl=nl, err=err, color=color)\n",
            "           ^^^^^^^^^^^^^^^^^^^^^^^^^^^^^^^^^^^^^^^^^^^^^^^^^^^^^\n",
            "  File \"/usr/local/lib/python3.12/dist-packages/click/utils.py\", line 321, in echo\n",
            "    file.write(out)  # type: ignore\n",
            "    ^^^^^^^^^^^^^^^\n",
            "RuntimeError: reentrant call inside <_io.BufferedWriter name='<stdout>'>\n"
          ]
        }
      ]
    }
  ]
}