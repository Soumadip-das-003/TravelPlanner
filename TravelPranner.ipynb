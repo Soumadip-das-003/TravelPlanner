{
  "nbformat": 4,
  "nbformat_minor": 0,
  "metadata": {
    "colab": {
      "provenance": [],
      "authorship_tag": "ABX9TyNSz6KhtLKHIa6pBhRPg85g",
      "include_colab_link": true
    },
    "kernelspec": {
      "name": "python3",
      "display_name": "Python 3"
    },
    "language_info": {
      "name": "python"
    }
  },
  "cells": [
    {
      "cell_type": "markdown",
      "metadata": {
        "id": "view-in-github",
        "colab_type": "text"
      },
      "source": [
        "<a href=\"https://colab.research.google.com/github/Soumadip-das-003/TravelPlanner/blob/main/TravelPranner.ipynb\" target=\"_parent\"><img src=\"https://colab.research.google.com/assets/colab-badge.svg\" alt=\"Open In Colab\"/></a>"
      ]
    },
    {
      "cell_type": "code",
      "execution_count": 22,
      "metadata": {
        "id": "tRvOqBsk_95h"
      },
      "outputs": [],
      "source": [
        "pip install -q streamlit google-generativeai"
      ]
    },
    {
      "cell_type": "code",
      "source": [
        "import os\n",
        "\n",
        "os.environ[\"PROVIDER\"] = \"gemini\"\n",
        "\n",
        "# API keys (set at least one)\n",
        "os.environ[\"GEMINI_API_KEY\"] = \"GEMINI_KEY\"\n"
      ],
      "metadata": {
        "id": "HDeKDZfsAZds"
      },
      "execution_count": 23,
      "outputs": []
    },
    {
      "cell_type": "code",
      "source": [
        "%%writefile config.py\n",
        "import os\n",
        "\n",
        "class Config:\n",
        "    PROVIDER = os.environ.get(\"PROVIDER\", \"gemini\").lower()\n",
        "\n",
        "    # Gemini\n",
        "    GEMINI_API_KEY = os.environ.get(\"GEMINI_API_KEY\", \"\")\n",
        "    GEMINI_MODEL = \"gemini-pro\"\n",
        "\n",
        "    DEFAULT_CURRENCY = \"INR\"\n",
        "    MAX_DAYS = 14\n",
        "    MIN_DAYS = 1"
      ],
      "metadata": {
        "colab": {
          "base_uri": "https://localhost:8080/"
        },
        "id": "rx8jYF1UAf9F",
        "outputId": "e9430853-d347-4629-c380-78f43fd86344"
      },
      "execution_count": 24,
      "outputs": [
        {
          "output_type": "stream",
          "name": "stdout",
          "text": [
            "Overwriting config.py\n"
          ]
        }
      ]
    },
    {
      "cell_type": "code",
      "source": [
        "%%writefile ai_client.py\n",
        "from config import Config\n",
        "import google.generativeai as genai\n",
        "from openai import OpenAI\n",
        "import json\n",
        "import re\n",
        "\n",
        "class AIClient:\n",
        "    def __init__(self):\n",
        "        self.provider = Config.PROVIDER\n",
        "        if self.provider == \"gemini\":\n",
        "            if not Config.GEMINI_API_KEY:\n",
        "                raise ValueError(\"Gemini API key not set.\")\n",
        "            genai.configure(api_key=Config.GEMINI_API_KEY)\n",
        "            self.model = genai.GenerativeModel(Config.GEMINI_MODEL)\n",
        "\n",
        "\n",
        "        else:\n",
        "            raise ValueError(\"Unsupported provider.\")\n",
        "\n",
        "    def generate_itinerary(self, prompt):\n",
        "        if self.provider == \"gemini\":\n",
        "            resp = self.model.generate_content(prompt)\n",
        "            text = getattr(resp, \"text\", \"\") or \"\"\n",
        "            return self._extract_outputs(text)\n",
        "\n",
        "\n",
        "    def _extract_outputs(self, text):\n",
        "        json_match = re.search(r\"```json\\s*(\\{.*?\\})\\s*```\", text, flags=re.DOTALL)\n",
        "        itinerary_json = {}\n",
        "        if json_match:\n",
        "            try:\n",
        "                itinerary_json = json.loads(json_match.group(1))\n",
        "            except:\n",
        "                itinerary_json = {\"error\": \"Failed to parse JSON\"}\n",
        "\n",
        "        summary_text = text[json_match.end(0):].strip() if json_match else text.strip()\n",
        "        return {\"itinerary_json\": itinerary_json, \"summary_text\": summary_text}"
      ],
      "metadata": {
        "colab": {
          "base_uri": "https://localhost:8080/"
        },
        "id": "fN1OpxYnAkC_",
        "outputId": "6e7153b8-1815-4b25-c4b4-d55615bb4781"
      },
      "execution_count": 25,
      "outputs": [
        {
          "output_type": "stream",
          "name": "stdout",
          "text": [
            "Overwriting ai_client.py\n"
          ]
        }
      ]
    },
    {
      "cell_type": "code",
      "source": [
        "%%writefile planner.py\n",
        "from config import Config\n",
        "\n",
        "def validate_inputs(data):\n",
        "    destination = (data.get(\"destination\") or \"\").strip()\n",
        "    start_date = (data.get(\"start_date\") or \"\").strip()\n",
        "    duration_days = int(data.get(\"duration_days\") or 0)\n",
        "    budget_level = (data.get(\"budget_level\") or \"tight\").strip().lower()\n",
        "    interests = [i.strip().lower() for i in (data.get(\"interests\") or \"\").split(\",\") if i.strip()]\n",
        "    transport = (data.get(\"transport\") or \"bus/train\").strip().lower()\n",
        "    stay_type = (data.get(\"stay_type\") or \"hostel\").strip().lower()\n",
        "    currency = Config.DEFAULT_CURRENCY\n",
        "\n",
        "    if not destination:\n",
        "        return False, \"Destination is required.\", None\n",
        "    if duration_days < Config.MIN_DAYS or duration_days > Config.MAX_DAYS:\n",
        "        return False, f\"Duration must be between {Config.MIN_DAYS} and {Config.MAX_DAYS} days.\", None\n",
        "\n",
        "    return True, \"\", {\n",
        "        \"destination\": destination,\n",
        "        \"start_date\": start_date,\n",
        "        \"duration_days\": duration_days,\n",
        "        \"budget_level\": budget_level,\n",
        "        \"interests\": interests,\n",
        "        \"transport\": transport,\n",
        "        \"stay_type\": stay_type,\n",
        "        \"currency\": currency\n",
        "    }\n",
        "\n",
        "def build_prompt(params):\n",
        "    destination = params[\"destination\"]\n",
        "    duration = params[\"duration_days\"]\n",
        "    budget = params[\"budget_level\"]\n",
        "    interests = \", \".join(params[\"interests\"]) if params[\"interests\"] else \"general sightseeing\"\n",
        "    transport = params[\"transport\"]\n",
        "    stay = params[\"stay_type\"]\n",
        "    currency = params[\"currency\"]\n",
        "    start_date = params[\"start_date\"] or \"an upcoming weekend\"\n",
        "\n",
        "    return f\"\"\"\n",
        "You are a student-focused travel planner. Create a budget-friendly {duration}-day itinerary for {destination} starting on {start_date}.\n",
        "\n",
        "Constraints:\n",
        "- Budget level: {budget}.\n",
        "- Interests: {interests}.\n",
        "- Preferred transport: {transport}.\n",
        "- Preferred stay: {stay}.\n",
        "- Currency: {currency}.\n",
        "- Prioritize free/low-cost highlights, student discounts, and safety.\n",
        "\n",
        "Output format:\n",
        "1) JSON fenced block with daily plan, meals, transport, accommodation, estimated costs, and tips.\n",
        "2) Below JSON, a concise student-friendly summary (5-7 sentences).\n",
        "\"\"\""
      ],
      "metadata": {
        "colab": {
          "base_uri": "https://localhost:8080/"
        },
        "id": "uUIItkV5Am4B",
        "outputId": "cb9000e5-4848-41c0-9d7b-fc71a83b4aa3"
      },
      "execution_count": 26,
      "outputs": [
        {
          "output_type": "stream",
          "name": "stdout",
          "text": [
            "Overwriting planner.py\n"
          ]
        }
      ]
    },
    {
      "cell_type": "code",
      "source": [
        "%%writefile app.py\n",
        "import streamlit as st\n",
        "from ai_client import AIClient\n",
        "from planner import validate_inputs, build_prompt\n",
        "\n",
        "st.set_page_config(page_title=\"Student AI Travel Planner\", layout=\"wide\")\n",
        "st.title(\"🎓 Student AI Travel Planner\")\n",
        "\n",
        "with st.form(\"planner_form\"):\n",
        "    destination = st.text_input(\"Destination\", placeholder=\"e.g., Ooty, Goa, Jaipur\")\n",
        "    start_date = st.date_input(\"Start date (optional)\", value=None)\n",
        "    duration_days = st.number_input(\"Duration (days)\", min_value=1, max_value=14, value=3)\n",
        "    budget_level = st.selectbox(\"Budget level\", [\"tight\", \"moderate\", \"flexible\"])\n",
        "    transport = st.selectbox(\"Preferred transport\", [\"bus/train\", \"shared cab\", \"flight\"])\n",
        "    stay_type = st.selectbox(\"Preferred stay\", [\"hostel\", \"homestay\", \"budget hotel\"])\n",
        "    interests = st.text_input(\"Interests (comma-separated)\", placeholder=\"nature, food, culture, history\")\n",
        "    submitted = st.form_submit_button(\"Generate Itinerary\")\n",
        "\n",
        "if submitted:\n",
        "    ok, msg, normalized = validate_inputs({\n",
        "        \"destination\": destination,\n",
        "        \"start_date\": str(start_date) if start_date else \"\",\n",
        "        \"duration_days\": int(duration_days),\n",
        "        \"budget_level\": budget_level,\n",
        "        \"interests\": interests,\n",
        "        \"transport\": transport,\n",
        "        \"stay_type\": stay_type\n",
        "    })\n",
        "\n",
        "    if not ok:\n",
        "        st.error(msg)\n",
        "    else:\n",
        "        prompt = build_prompt(normalized)\n",
        "        try:\n",
        "            client = AIClient()\n",
        "            result = client.generate_itinerary(prompt)\n",
        "            st.subheader(\"📋 JSON Itinerary\")\n",
        "            st.json(result[\"itinerary_json\"])\n",
        "            st.subheader(\"📝 Student Summary\")\n",
        "            st.write(result[\"summary_text\"])\n",
        "        except Exception as e:\n",
        "            st.error(f\"Error: {e}\")"
      ],
      "metadata": {
        "colab": {
          "base_uri": "https://localhost:8080/"
        },
        "id": "DMo2j2s8Apgt",
        "outputId": "1220967b-4271-4405-9520-c47b2f272152"
      },
      "execution_count": 27,
      "outputs": [
        {
          "output_type": "stream",
          "name": "stdout",
          "text": [
            "Overwriting app.py\n"
          ]
        }
      ]
    },
    {
      "cell_type": "code",
      "source": [
        "!streamlit run app.py --server.port 8501 --server.headless true"
      ],
      "metadata": {
        "colab": {
          "base_uri": "https://localhost:8080/"
        },
        "id": "-EPIqSGNAsDh",
        "outputId": "3eb8ea12-2f4d-4928-9a16-5f710c8e9d00"
      },
      "execution_count": 28,
      "outputs": [
        {
          "output_type": "stream",
          "name": "stdout",
          "text": [
            "\n",
            "Collecting usage statistics. To deactivate, set browser.gatherUsageStats to false.\n",
            "\u001b[0m\n",
            "\u001b[0m\n",
            "\u001b[34m\u001b[1m  You can now view your Streamlit app in your browser.\u001b[0m\n",
            "\u001b[0m\n",
            "\u001b[34m  Local URL: \u001b[0m\u001b[1mhttp://localhost:8501\u001b[0m\n",
            "\u001b[34m  Network URL: \u001b[0m\u001b[1mhttp://172.28.0.12:8501\u001b[0m\n",
            "\u001b[34m  External URL: \u001b[0m\u001b[1mhttp://34.86.201.233:8501\u001b[0m\n",
            "\u001b[0m\n",
            "\u001b[34m  Stopping...\u001b[0m\n",
            "\u001b[34m  Stopping...\u001b[0m\n"
          ]
        }
      ]
    }
  ]
}